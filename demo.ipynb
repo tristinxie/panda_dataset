{
 "cells": [
  {
   "cell_type": "code",
   "execution_count": 1,
   "metadata": {},
   "outputs": [],
   "source": [
    "import panda_ep_dataset as ped\n",
    "import panda_step_dataset as psd\n",
    "import matplotlib.pyplot as plt\n",
    "import numpy as np\n",
    "import torch\n",
    "from torch.utils.data import DataLoader\n",
    "from PIL import Image"
   ]
  },
  {
   "cell_type": "code",
   "execution_count": 2,
   "metadata": {},
   "outputs": [],
   "source": [
    "def as_gif(images, path=\"sample.gif\"):\n",
    "    images[0].save(path, save_all=True, append_images=images, duration=int(1000/30), loop=0)\n",
    "    gif_bytes = open(path,\"rb\").read()\n",
    "    return gif_bytes"
   ]
  },
  {
   "cell_type": "markdown",
   "metadata": {},
   "source": [
    "# Step Dataset"
   ]
  },
  {
   "cell_type": "code",
   "execution_count": null,
   "metadata": {},
   "outputs": [],
   "source": [
    "# Prints shapes each attribute and outputs a gif of the episode\n",
    "panda_step_dataset = psd.PandaStepDataset(root_dir=\"./panda_dataset\", ep_num=1, transform=psd.ToTensor())\n",
    "dataloader = DataLoader(panda_step_dataset, batch_size=10, num_workers=5)\n",
    "images = []\n",
    "for i_batch, sample_batched in enumerate(dataloader):\n",
    "    timestamp = sample_batched[\"timestamp\"]\n",
    "    joint_angles = sample_batched[\"joint_angles\"]\n",
    "    cam_in = sample_batched[\"intrinsic\"]\n",
    "    cam_ex = sample_batched[\"extrinsic\"]\n",
    "    image_batch = sample_batched[\"image\"].squeeze().permute(0, 2, 3, 1).numpy()\n",
    "    for image in image_batch:\n",
    "        images.append(Image.fromarray(image))\n",
    "    print(f\"timestamp: {timestamp}\")\n",
    "    print(f\"cam_in: {cam_in.shape}\")\n",
    "    print(f\"cam_ex: {cam_ex.shape}\")\n",
    "    print(f\"joint angles: {joint_angles.shape}\")\n",
    "    print(f\"image shape: {image.shape}\")\n",
    "as_gif(images)\n"
   ]
  },
  {
   "cell_type": "markdown",
   "metadata": {},
   "source": [
    "# Episode Dataset"
   ]
  },
  {
   "cell_type": "code",
   "execution_count": 4,
   "metadata": {},
   "outputs": [],
   "source": [
    "# Episode dataset needs custom collate function for batching\n",
    "def panda_custom_collate(batch):\n",
    "    collated_batch = {}\n",
    "    collated_intrinsic = torch.tensor([])\n",
    "    collated_extrinsic = torch.tensor([])\n",
    "    collated_timestamps = []\n",
    "    collated_steps = []\n",
    "    for item in batch:\n",
    "        collated_intrinsic = torch.concatenate((collated_intrinsic, item[\"calibration_info\"][\"intrinsic\"]))\n",
    "        collated_extrinsic = torch.concatenate((collated_extrinsic, item[\"calibration_info\"][\"extrinsic\"]))\n",
    "        collated_timestamps.append(item[\"timestamps\"])\n",
    "        collated_steps.append(item[\"steps\"])\n",
    "\n",
    "    collated_batch[\"calibration_info\"] = dict()\n",
    "    collated_batch[\"calibration_info\"][\"intrinsic\"] = collated_intrinsic\n",
    "    collated_batch[\"calibration_info\"][\"extrinsic\"] = collated_extrinsic\n",
    "    collated_batch[\"timestamps\"] = collated_timestamps\n",
    "    collated_batch[\"steps\"] = collated_steps\n",
    "    \n",
    "    return collated_batch"
   ]
  },
  {
   "cell_type": "code",
   "execution_count": null,
   "metadata": {},
   "outputs": [],
   "source": [
    "panda_dataset = ped.PandaEpisodeDataset(root_dir=\"./panda_dataset\", transform=ped.ToTensor())\n",
    "dataloader = DataLoader(panda_dataset, batch_size=3, num_workers=5, collate_fn=panda_custom_collate, shuffle=False)\n",
    "for i_batch, sample_batched in enumerate(dataloader):\n",
    "    images = []\n",
    "    timestamps = sample_batched[\"timestamps\"]\n",
    "    print(timestamps)\n",
    "    for i, timestamp in enumerate(sample_batched[\"steps\"]):\n",
    "        print(len(sample_batched[\"steps\"]))"
   ]
  },
  {
   "cell_type": "code",
   "execution_count": null,
   "metadata": {},
   "outputs": [],
   "source": [
    "# Prints camera intrinsics and extrinsics and outputs a gif for each episode\n",
    "panda_dataset = ped.PandaEpisodeDataset(root_dir=\"./panda_dataset\", transform=ped.ToTensor())\n",
    "dataloader = DataLoader(panda_dataset, batch_size=1, num_workers=0)\n",
    "for i_batch, sample_batched in enumerate(dataloader):\n",
    "    images = []\n",
    "    timestamps = sample_batched[\"timestamps\"]\n",
    "    cam_in = sample_batched[\"calibration_info\"][\"intrinsic\"][0]\n",
    "    cam_ex = sample_batched[\"calibration_info\"][\"extrinsic\"][0]\n",
    "    print(f\"Camera Intrinsics:\\n{cam_in}\")\n",
    "    print(f\"Camera Extrinsics:\\n{cam_ex}\")\n",
    "    for i, timestamp in enumerate(sample_batched[\"steps\"]):\n",
    "        step = sample_batched[\"steps\"][timestamp]\n",
    "        image = step[\"img_data\"].squeeze().permute(1,2,0).numpy()\n",
    "        images.append(Image.fromarray(image))\n",
    "    ep_num = str(i_batch+1).zfill(4)\n",
    "    as_gif(images, path=f\"./assets/gifs/panda_{ep_num}.gif\")\n"
   ]
  }
 ],
 "metadata": {
  "kernelspec": {
   "display_name": "ctrnet",
   "language": "python",
   "name": "python3"
  },
  "language_info": {
   "codemirror_mode": {
    "name": "ipython",
    "version": 3
   },
   "file_extension": ".py",
   "mimetype": "text/x-python",
   "name": "python",
   "nbconvert_exporter": "python",
   "pygments_lexer": "ipython3",
   "version": "3.8.10"
  }
 },
 "nbformat": 4,
 "nbformat_minor": 2
}
