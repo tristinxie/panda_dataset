{
 "cells": [
  {
   "cell_type": "code",
   "execution_count": 1,
   "metadata": {},
   "outputs": [],
   "source": [
    "import panda_dataset as pds\n",
    "import matplotlib.pyplot as plt\n",
    "import numpy as np\n",
    "from torch.utils.data import DataLoader\n",
    "\n",
    "from PIL import Image\n",
    "from IPython import display"
   ]
  },
  {
   "cell_type": "code",
   "execution_count": 2,
   "metadata": {},
   "outputs": [],
   "source": [
    "def as_gif(images, path=\"sample.gif\"):\n",
    "    images[0].save(path, save_all=True, append_images=images, duration=int(1000/30), loop=0)\n",
    "    gif_bytes = open(path,\"rb\").read()\n",
    "    return gif_bytes"
   ]
  },
  {
   "cell_type": "code",
   "execution_count": 4,
   "metadata": {},
   "outputs": [],
   "source": [
    "panda_dataset = pds.PandaDataset(root_dir=\"./panda_dataset\", transform=pds.ToTensor())\n",
    "dataloader = DataLoader(panda_dataset, batch_size=1, num_workers=0)\n",
    "images = []\n",
    "for i_batch, sample_batched in enumerate(dataloader):\n",
    "    timestamps = sample_batched[\"timestamps\"]\n",
    "    cam_in = sample_batched[\"calibration_info\"][\"intrinsic\"][0]\n",
    "    cam_ex = sample_batched[\"calibration_info\"][\"extrinsic\"][0]\n",
    "    # print(f\"Camera Intrinsics:\\n{cam_in}\")\n",
    "    # print(f\"Camera Extrinsics:\\n{cam_ex}\")\n",
    "    for i, timestamp in enumerate(sample_batched[\"steps\"]):\n",
    "        step = sample_batched[\"steps\"][timestamp]\n",
    "        image = step[\"img_data\"].squeeze().permute(1,2,0).numpy()\n",
    "        images.append(Image.fromarray(image))\n",
    "    as_gif(images)\n",
    "    break\n"
   ]
  },
  {
   "cell_type": "code",
   "execution_count": null,
   "metadata": {},
   "outputs": [],
   "source": []
  },
  {
   "cell_type": "code",
   "execution_count": null,
   "metadata": {},
   "outputs": [],
   "source": []
  }
 ],
 "metadata": {
  "kernelspec": {
   "display_name": "ctrnet",
   "language": "python",
   "name": "python3"
  },
  "language_info": {
   "codemirror_mode": {
    "name": "ipython",
    "version": 3
   },
   "file_extension": ".py",
   "mimetype": "text/x-python",
   "name": "python",
   "nbconvert_exporter": "python",
   "pygments_lexer": "ipython3",
   "version": "3.8.10"
  }
 },
 "nbformat": 4,
 "nbformat_minor": 2
}
