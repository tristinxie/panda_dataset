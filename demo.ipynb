{
 "cells": [
  {
   "cell_type": "code",
   "execution_count": 3,
   "metadata": {},
   "outputs": [],
   "source": [
    "import panda_dataset as pds\n",
    "import matplotlib.pyplot as plt\n",
    "from torch.utils.data import DataLoader"
   ]
  },
  {
   "cell_type": "code",
   "execution_count": 7,
   "metadata": {},
   "outputs": [
    {
     "name": "stdout",
     "output_type": "stream",
     "text": [
      "Camera Intrinsics:\n",
      "tensor([[151.1343,   0.0000, 160.0976],\n",
      "        [  0.0000, 151.1347, 120.6547],\n",
      "        [  0.0000,   0.0000,   1.0000]], dtype=torch.float64)\n",
      "Camera Extrinsics:\n",
      "tensor([[ 0.8729, -2.1360,  1.4145,  0.5159,  0.4621,  0.3596]],\n",
      "       dtype=torch.float64)\n",
      "Camera Intrinsics:\n",
      "tensor([[151.1343,   0.0000, 160.0976],\n",
      "        [  0.0000, 151.1347, 120.6547],\n",
      "        [  0.0000,   0.0000,   1.0000]], dtype=torch.float64)\n",
      "Camera Extrinsics:\n",
      "tensor([[ 0.8729, -2.1360,  1.4145,  0.5159,  0.4621,  0.3596]],\n",
      "       dtype=torch.float64)\n",
      "Camera Intrinsics:\n",
      "tensor([[151.1343,   0.0000, 160.0976],\n",
      "        [  0.0000, 151.1347, 120.6547],\n",
      "        [  0.0000,   0.0000,   1.0000]], dtype=torch.float64)\n",
      "Camera Extrinsics:\n",
      "tensor([[ 0.8729, -2.1360,  1.4145,  0.5159,  0.4621,  0.3596]],\n",
      "       dtype=torch.float64)\n",
      "Camera Intrinsics:\n",
      "tensor([[151.1343,   0.0000, 160.0976],\n",
      "        [  0.0000, 151.1347, 120.6547],\n",
      "        [  0.0000,   0.0000,   1.0000]], dtype=torch.float64)\n",
      "Camera Extrinsics:\n",
      "tensor([[ 0.8729, -2.1360,  1.4145,  0.5159,  0.4621,  0.3596]],\n",
      "       dtype=torch.float64)\n",
      "Camera Intrinsics:\n",
      "tensor([[151.1343,   0.0000, 160.0976],\n",
      "        [  0.0000, 151.1347, 120.6547],\n",
      "        [  0.0000,   0.0000,   1.0000]], dtype=torch.float64)\n",
      "Camera Extrinsics:\n",
      "tensor([[ 0.8729, -2.1360,  1.4145,  0.5159,  0.4621,  0.3596]],\n",
      "       dtype=torch.float64)\n",
      "Camera Intrinsics:\n",
      "tensor([[151.1343,   0.0000, 160.0976],\n",
      "        [  0.0000, 151.1347, 120.6547],\n",
      "        [  0.0000,   0.0000,   1.0000]], dtype=torch.float64)\n",
      "Camera Extrinsics:\n",
      "tensor([[ 1.9747,  0.7610, -0.4442, -0.4845,  0.3535,  0.5232]],\n",
      "       dtype=torch.float64)\n",
      "Camera Intrinsics:\n",
      "tensor([[151.1343,   0.0000, 160.0976],\n",
      "        [  0.0000, 151.1347, 120.6547],\n",
      "        [  0.0000,   0.0000,   1.0000]], dtype=torch.float64)\n",
      "Camera Extrinsics:\n",
      "tensor([[ 1.9747,  0.7610, -0.4442, -0.4845,  0.3535,  0.5232]],\n",
      "       dtype=torch.float64)\n",
      "Camera Intrinsics:\n",
      "tensor([[151.1343,   0.0000, 160.0976],\n",
      "        [  0.0000, 151.1347, 120.6547],\n",
      "        [  0.0000,   0.0000,   1.0000]], dtype=torch.float64)\n",
      "Camera Extrinsics:\n",
      "tensor([[ 1.9747,  0.7610, -0.4442, -0.4845,  0.3535,  0.5232]],\n",
      "       dtype=torch.float64)\n",
      "Camera Intrinsics:\n",
      "tensor([[151.1343,   0.0000, 160.0976],\n",
      "        [  0.0000, 151.1347, 120.6547],\n",
      "        [  0.0000,   0.0000,   1.0000]], dtype=torch.float64)\n",
      "Camera Extrinsics:\n",
      "tensor([[ 1.9747,  0.7610, -0.4442, -0.4845,  0.3535,  0.5232]],\n",
      "       dtype=torch.float64)\n",
      "Camera Intrinsics:\n",
      "tensor([[151.1343,   0.0000, 160.0976],\n",
      "        [  0.0000, 151.1347, 120.6547],\n",
      "        [  0.0000,   0.0000,   1.0000]], dtype=torch.float64)\n",
      "Camera Extrinsics:\n",
      "tensor([[ 1.9747,  0.7610, -0.4442, -0.4845,  0.3535,  0.5232]],\n",
      "       dtype=torch.float64)\n"
     ]
    }
   ],
   "source": [
    "panda_dataset = pds.PandaDataset(root_dir=\"./panda_dataset\", transform=pds.ToTensor())\n",
    "dataloader = DataLoader(panda_dataset, batch_size=1, num_workers=0)\n",
    "images = []\n",
    "for i_batch, sample_batched in enumerate(dataloader):\n",
    "    timestamps = sample_batched[\"timestamps\"]\n",
    "    cam_in = sample_batched[\"calibration_info\"][\"intrinsic\"][0]\n",
    "    cam_ex = sample_batched[\"calibration_info\"][\"extrinsic\"][0]\n",
    "    print(f\"Camera Intrinsics:\\n{cam_in}\")\n",
    "    print(f\"Camera Extrinsics:\\n{cam_ex}\")\n",
    "    plt.imsave(\"sample_img.png\", sample_batched[\"steps\"][timestamps[200][0]][\"img_data\"][0].numpy().transpose((1,2,0)))"
   ]
  }
 ],
 "metadata": {
  "kernelspec": {
   "display_name": "ctrnet",
   "language": "python",
   "name": "python3"
  },
  "language_info": {
   "codemirror_mode": {
    "name": "ipython",
    "version": 3
   },
   "file_extension": ".py",
   "mimetype": "text/x-python",
   "name": "python",
   "nbconvert_exporter": "python",
   "pygments_lexer": "ipython3",
   "version": "3.8.10"
  }
 },
 "nbformat": 4,
 "nbformat_minor": 2
}
