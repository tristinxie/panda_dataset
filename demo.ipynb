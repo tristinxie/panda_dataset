{
 "cells": [
  {
   "cell_type": "code",
   "execution_count": 1,
   "metadata": {},
   "outputs": [],
   "source": [
    "import panda_dataset as pds\n",
    "import matplotlib.pyplot as plt\n",
    "import numpy as np\n",
    "from torch.utils.data import DataLoader\n",
    "\n",
    "from PIL import Image\n",
    "from IPython import display"
   ]
  },
  {
   "cell_type": "code",
   "execution_count": 2,
   "metadata": {},
   "outputs": [],
   "source": [
    "def as_gif(images, path=\"sample.gif\"):\n",
    "    images[0].save(path, save_all=True, append_images=images, duration=int(1000/30), loop=0)\n",
    "    gif_bytes = open(path,\"rb\").read()\n",
    "    return gif_bytes"
   ]
  },
  {
   "cell_type": "code",
   "execution_count": 12,
   "metadata": {},
   "outputs": [
    {
     "name": "stdout",
     "output_type": "stream",
     "text": [
      "Camera Intrinsics:\n",
      "tensor([[151.1343,   0.0000, 160.0976],\n",
      "        [  0.0000, 151.1347, 120.6547],\n",
      "        [  0.0000,   0.0000,   1.0000]], dtype=torch.float64)\n",
      "Camera Extrinsics:\n",
      "tensor([[ 0.8729, -2.1360,  1.4145,  0.5159,  0.4621,  0.3596]],\n",
      "       dtype=torch.float64)\n",
      "Camera Intrinsics:\n",
      "tensor([[151.1343,   0.0000, 160.0976],\n",
      "        [  0.0000, 151.1347, 120.6547],\n",
      "        [  0.0000,   0.0000,   1.0000]], dtype=torch.float64)\n",
      "Camera Extrinsics:\n",
      "tensor([[ 0.8729, -2.1360,  1.4145,  0.5159,  0.4621,  0.3596]],\n",
      "       dtype=torch.float64)\n",
      "Camera Intrinsics:\n",
      "tensor([[151.1343,   0.0000, 160.0976],\n",
      "        [  0.0000, 151.1347, 120.6547],\n",
      "        [  0.0000,   0.0000,   1.0000]], dtype=torch.float64)\n",
      "Camera Extrinsics:\n",
      "tensor([[ 0.8729, -2.1360,  1.4145,  0.5159,  0.4621,  0.3596]],\n",
      "       dtype=torch.float64)\n",
      "Camera Intrinsics:\n",
      "tensor([[151.1343,   0.0000, 160.0976],\n",
      "        [  0.0000, 151.1347, 120.6547],\n",
      "        [  0.0000,   0.0000,   1.0000]], dtype=torch.float64)\n",
      "Camera Extrinsics:\n",
      "tensor([[ 0.8729, -2.1360,  1.4145,  0.5159,  0.4621,  0.3596]],\n",
      "       dtype=torch.float64)\n",
      "Camera Intrinsics:\n",
      "tensor([[151.1343,   0.0000, 160.0976],\n",
      "        [  0.0000, 151.1347, 120.6547],\n",
      "        [  0.0000,   0.0000,   1.0000]], dtype=torch.float64)\n",
      "Camera Extrinsics:\n",
      "tensor([[ 0.8729, -2.1360,  1.4145,  0.5159,  0.4621,  0.3596]],\n",
      "       dtype=torch.float64)\n",
      "Camera Intrinsics:\n",
      "tensor([[151.1343,   0.0000, 160.0976],\n",
      "        [  0.0000, 151.1347, 120.6547],\n",
      "        [  0.0000,   0.0000,   1.0000]], dtype=torch.float64)\n",
      "Camera Extrinsics:\n",
      "tensor([[ 1.9747,  0.7610, -0.4442, -0.4845,  0.3535,  0.5232]],\n",
      "       dtype=torch.float64)\n",
      "Camera Intrinsics:\n",
      "tensor([[151.1343,   0.0000, 160.0976],\n",
      "        [  0.0000, 151.1347, 120.6547],\n",
      "        [  0.0000,   0.0000,   1.0000]], dtype=torch.float64)\n",
      "Camera Extrinsics:\n",
      "tensor([[ 1.9747,  0.7610, -0.4442, -0.4845,  0.3535,  0.5232]],\n",
      "       dtype=torch.float64)\n",
      "Camera Intrinsics:\n",
      "tensor([[151.1343,   0.0000, 160.0976],\n",
      "        [  0.0000, 151.1347, 120.6547],\n",
      "        [  0.0000,   0.0000,   1.0000]], dtype=torch.float64)\n",
      "Camera Extrinsics:\n",
      "tensor([[ 1.9747,  0.7610, -0.4442, -0.4845,  0.3535,  0.5232]],\n",
      "       dtype=torch.float64)\n",
      "Camera Intrinsics:\n",
      "tensor([[151.1343,   0.0000, 160.0976],\n",
      "        [  0.0000, 151.1347, 120.6547],\n",
      "        [  0.0000,   0.0000,   1.0000]], dtype=torch.float64)\n",
      "Camera Extrinsics:\n",
      "tensor([[ 1.9747,  0.7610, -0.4442, -0.4845,  0.3535,  0.5232]],\n",
      "       dtype=torch.float64)\n",
      "Camera Intrinsics:\n",
      "tensor([[151.1343,   0.0000, 160.0976],\n",
      "        [  0.0000, 151.1347, 120.6547],\n",
      "        [  0.0000,   0.0000,   1.0000]], dtype=torch.float64)\n",
      "Camera Extrinsics:\n",
      "tensor([[ 1.9747,  0.7610, -0.4442, -0.4845,  0.3535,  0.5232]],\n",
      "       dtype=torch.float64)\n"
     ]
    }
   ],
   "source": [
    "# Prints camera intrinsics and extrinsics and outputs a gif for each episode\n",
    "panda_dataset = pds.PandaDataset(root_dir=\"./panda_dataset\", transform=pds.ToTensor())\n",
    "dataloader = DataLoader(panda_dataset, batch_size=1, num_workers=0)\n",
    "for i_batch, sample_batched in enumerate(dataloader):\n",
    "    images = []\n",
    "    timestamps = sample_batched[\"timestamps\"]\n",
    "    cam_in = sample_batched[\"calibration_info\"][\"intrinsic\"][0]\n",
    "    cam_ex = sample_batched[\"calibration_info\"][\"extrinsic\"][0]\n",
    "    print(f\"Camera Intrinsics:\\n{cam_in}\")\n",
    "    print(f\"Camera Extrinsics:\\n{cam_ex}\")\n",
    "    for i, timestamp in enumerate(sample_batched[\"steps\"]):\n",
    "        step = sample_batched[\"steps\"][timestamp]\n",
    "        image = step[\"img_data\"].squeeze().permute(1,2,0).numpy()\n",
    "        images.append(Image.fromarray(image))\n",
    "    ep_num = str(i_batch+1).zfill(4)\n",
    "    as_gif(images, path=f\"./assets/gifs/panda_{ep_num}.gif\")\n"
   ]
  },
  {
   "cell_type": "code",
   "execution_count": null,
   "metadata": {},
   "outputs": [],
   "source": [
    "\n",
    "panda_dataset = pds.PandaDataset(root_dir=\"./panda_dataset\", transform=pds.ToTensor())\n",
    "dataloader = DataLoader(panda_dataset, batch_size=1, num_workers=0)\n",
    "for i_batch, sample_batched in enumerate(dataloader):\n",
    "    images = []\n",
    "    timestamps = sample_batched[\"timestamps\"]\n",
    "    for i, timestamp in enumerate(sample_batched[\"steps\"]):\n",
    "        step = sample_batched[\"steps\"][timestamp]\n",
    "        image = step[\"img_data\"].squeeze().numpy()"
   ]
  },
  {
   "cell_type": "code",
   "execution_count": null,
   "metadata": {},
   "outputs": [],
   "source": []
  }
 ],
 "metadata": {
  "kernelspec": {
   "display_name": "ctrnet",
   "language": "python",
   "name": "python3"
  },
  "language_info": {
   "codemirror_mode": {
    "name": "ipython",
    "version": 3
   },
   "file_extension": ".py",
   "mimetype": "text/x-python",
   "name": "python",
   "nbconvert_exporter": "python",
   "pygments_lexer": "ipython3",
   "version": "3.8.10"
  }
 },
 "nbformat": 4,
 "nbformat_minor": 2
}
